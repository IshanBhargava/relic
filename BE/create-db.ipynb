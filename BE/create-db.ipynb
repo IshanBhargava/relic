{
 "cells": [
  {
   "cell_type": "code",
   "execution_count": 1,
   "metadata": {},
   "outputs": [],
   "source": [
    "import pandas as pd\n",
    "import mysql.connector\n",
    "import datetime\n",
    "\n",
    "pd.set_option('display.max_columns', None)"
   ]
  },
  {
   "cell_type": "code",
   "execution_count": 3,
   "metadata": {},
   "outputs": [],
   "source": [
    "dt = pd.read_csv(\"../BE/final_cars.csv\").rename(columns = {\n",
    "    'id':'car_id',\n",
    "    'condition':'conditions',\n",
    "    'lat':'lati',\n",
    "    'long':'longi'})"
   ]
  },
  {
   "cell_type": "code",
   "execution_count": 7,
   "metadata": {},
   "outputs": [],
   "source": [
    "data = dt.to_dict(\"records\")"
   ]
  },
  {
   "cell_type": "code",
   "execution_count": 8,
   "metadata": {},
   "outputs": [],
   "source": [
    "for rec in data:\n",
    "    datetime_with_timezone = datetime.datetime.strptime(rec['posting_date'], \"%Y-%m-%dT%H:%M:%S%z\")\n",
    "    rec['posting_date'] = datetime_with_timezone.isoformat()"
   ]
  },
  {
   "cell_type": "code",
   "execution_count": 9,
   "metadata": {},
   "outputs": [],
   "source": [
    "dataBase = mysql.connector.connect(\n",
    "host =\"localhost\",\n",
    "user =\"root\",\n",
    "passwd =\"<password>\",\n",
    "database = \"dsc-550\",\n",
    "connection_timeout = 500\n",
    ")"
   ]
  },
  {
   "cell_type": "code",
   "execution_count": 12,
   "metadata": {},
   "outputs": [],
   "source": [
    "for rec in data:\n",
    "    placeholder = \", \".join([\"%s\"] * len(rec))\n",
    "    query = \"INSERT INTO car ({cols}) values ({values})\".format(cols=\",\".join(rec.keys()), values=placeholder)\n",
    "    cursorObject = dataBase.cursor(dictionary=True)\n",
    "    cursorObject.execute(query, list(rec.values()))\n",
    "    results = cursorObject.fetchall()\n",
    "    dataBase.commit()\n",
    "    cursorObject.close()"
   ]
  },
  {
   "cell_type": "code",
   "execution_count": 13,
   "metadata": {},
   "outputs": [
    {
     "data": {
      "text/plain": [
       "True"
      ]
     },
     "execution_count": 13,
     "metadata": {},
     "output_type": "execute_result"
    }
   ],
   "source": [
    "cursorObject = dataBase.cursor(dictionary=True)\n",
    "cursorObject.execute(\"SELECT * FROM car\")\n",
    "results = cursorObject.fetchall()\n",
    "dataBase.commit()\n",
    "cursorObject.close()"
   ]
  },
  {
   "cell_type": "code",
   "execution_count": 14,
   "metadata": {},
   "outputs": [
    {
     "data": {
      "text/plain": [
       "376797"
      ]
     },
     "execution_count": 14,
     "metadata": {},
     "output_type": "execute_result"
    }
   ],
   "source": [
    "len(results)"
   ]
  },
  {
   "cell_type": "code",
   "execution_count": null,
   "metadata": {},
   "outputs": [],
   "source": []
  }
 ],
 "metadata": {
  "kernelspec": {
   "display_name": "base",
   "language": "python",
   "name": "python3"
  },
  "language_info": {
   "codemirror_mode": {
    "name": "ipython",
    "version": 3
   },
   "file_extension": ".py",
   "mimetype": "text/x-python",
   "name": "python",
   "nbconvert_exporter": "python",
   "pygments_lexer": "ipython3",
   "version": "3.11.7"
  }
 },
 "nbformat": 4,
 "nbformat_minor": 2
}
